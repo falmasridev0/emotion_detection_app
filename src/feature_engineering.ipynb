{
 "cells": [
  {
   "cell_type": "code",
   "execution_count": 67,
   "metadata": {},
   "outputs": [],
   "source": [
    "import pandas as pd\n",
    "import os.path as path\n",
    "from nltk import casual_tokenize\n",
    "from sklearn.linear_model import LogisticRegression\n"
   ]
  },
  {
   "cell_type": "code",
   "execution_count": 68,
   "metadata": {},
   "outputs": [],
   "source": [
    "df = pd.read_csv(\"../NRC-Emotion-Lexicon.csv\")\n",
    "SETS_PATH = \"../data/preprocessing_phase/\""
   ]
  },
  {
   "cell_type": "code",
   "execution_count": 69,
   "metadata": {},
   "outputs": [
    {
     "data": {
      "text/html": [
       "<div>\n",
       "<style scoped>\n",
       "    .dataframe tbody tr th:only-of-type {\n",
       "        vertical-align: middle;\n",
       "    }\n",
       "\n",
       "    .dataframe tbody tr th {\n",
       "        vertical-align: top;\n",
       "    }\n",
       "\n",
       "    .dataframe thead th {\n",
       "        text-align: right;\n",
       "    }\n",
       "</style>\n",
       "<table border=\"1\" class=\"dataframe\">\n",
       "  <thead>\n",
       "    <tr style=\"text-align: right;\">\n",
       "      <th></th>\n",
       "      <th>English (en)</th>\n",
       "      <th>Afrikaans (af)</th>\n",
       "      <th>Albanian (sq)</th>\n",
       "      <th>Amharic (am)</th>\n",
       "      <th>Arabic (ar)</th>\n",
       "      <th>Armenian (hy)</th>\n",
       "      <th>Azeerbaijani (az)</th>\n",
       "      <th>Basque (eu)</th>\n",
       "      <th>Belarusian (be)</th>\n",
       "      <th>Bengali (bn)</th>\n",
       "      <th>...</th>\n",
       "      <th>Positive</th>\n",
       "      <th>Negative</th>\n",
       "      <th>Anger</th>\n",
       "      <th>Anticipation</th>\n",
       "      <th>Disgust</th>\n",
       "      <th>Fear</th>\n",
       "      <th>Joy</th>\n",
       "      <th>Sadness</th>\n",
       "      <th>Surprise</th>\n",
       "      <th>Trust</th>\n",
       "    </tr>\n",
       "  </thead>\n",
       "  <tbody>\n",
       "    <tr>\n",
       "      <th>0</th>\n",
       "      <td>aback</td>\n",
       "      <td>uit die veld geslaan</td>\n",
       "      <td>prapa</td>\n",
       "      <td>ተጭኗል</td>\n",
       "      <td>الى الوراء</td>\n",
       "      <td>շեղում</td>\n",
       "      <td>sanki</td>\n",
       "      <td>aback</td>\n",
       "      <td>ззаду</td>\n",
       "      <td>পশ্চাতে</td>\n",
       "      <td>...</td>\n",
       "      <td>0</td>\n",
       "      <td>0</td>\n",
       "      <td>0</td>\n",
       "      <td>0</td>\n",
       "      <td>0</td>\n",
       "      <td>0</td>\n",
       "      <td>0</td>\n",
       "      <td>0</td>\n",
       "      <td>0</td>\n",
       "      <td>0</td>\n",
       "    </tr>\n",
       "    <tr>\n",
       "      <th>1</th>\n",
       "      <td>abacus</td>\n",
       "      <td>abakus</td>\n",
       "      <td>numërator</td>\n",
       "      <td>abacus</td>\n",
       "      <td>طبلية تاج</td>\n",
       "      <td>անբավարարություն</td>\n",
       "      <td>abacus</td>\n",
       "      <td>abako</td>\n",
       "      <td>абака</td>\n",
       "      <td>গণনা-যন্ত্রবিশেষ</td>\n",
       "      <td>...</td>\n",
       "      <td>0</td>\n",
       "      <td>0</td>\n",
       "      <td>0</td>\n",
       "      <td>0</td>\n",
       "      <td>0</td>\n",
       "      <td>0</td>\n",
       "      <td>0</td>\n",
       "      <td>0</td>\n",
       "      <td>0</td>\n",
       "      <td>1</td>\n",
       "    </tr>\n",
       "    <tr>\n",
       "      <th>2</th>\n",
       "      <td>abandon</td>\n",
       "      <td>verlaat</td>\n",
       "      <td>braktis</td>\n",
       "      <td>ውጣ</td>\n",
       "      <td>تخلى</td>\n",
       "      <td>լքել</td>\n",
       "      <td>tərk et</td>\n",
       "      <td>bertan behera</td>\n",
       "      <td>адмовіцца ад</td>\n",
       "      <td>বর্জিত করা</td>\n",
       "      <td>...</td>\n",
       "      <td>0</td>\n",
       "      <td>1</td>\n",
       "      <td>0</td>\n",
       "      <td>0</td>\n",
       "      <td>0</td>\n",
       "      <td>1</td>\n",
       "      <td>0</td>\n",
       "      <td>1</td>\n",
       "      <td>0</td>\n",
       "      <td>0</td>\n",
       "    </tr>\n",
       "    <tr>\n",
       "      <th>3</th>\n",
       "      <td>abandoned</td>\n",
       "      <td>verlate</td>\n",
       "      <td>braktisur</td>\n",
       "      <td>ተትቷል</td>\n",
       "      <td>مهجور</td>\n",
       "      <td>լքված</td>\n",
       "      <td>tərk etdi</td>\n",
       "      <td>abandonatutako</td>\n",
       "      <td>закінуты</td>\n",
       "      <td>পরিত্যক্ত</td>\n",
       "      <td>...</td>\n",
       "      <td>0</td>\n",
       "      <td>1</td>\n",
       "      <td>1</td>\n",
       "      <td>0</td>\n",
       "      <td>0</td>\n",
       "      <td>1</td>\n",
       "      <td>0</td>\n",
       "      <td>1</td>\n",
       "      <td>0</td>\n",
       "      <td>0</td>\n",
       "    </tr>\n",
       "    <tr>\n",
       "      <th>4</th>\n",
       "      <td>abandonment</td>\n",
       "      <td>verlating</td>\n",
       "      <td>braktisje</td>\n",
       "      <td>ማቋረጥ</td>\n",
       "      <td>التخلي عن</td>\n",
       "      <td>հրաժարվելով</td>\n",
       "      <td>ləğv</td>\n",
       "      <td>abandono</td>\n",
       "      <td>пакіданне</td>\n",
       "      <td>বিসর্জন</td>\n",
       "      <td>...</td>\n",
       "      <td>0</td>\n",
       "      <td>1</td>\n",
       "      <td>1</td>\n",
       "      <td>0</td>\n",
       "      <td>0</td>\n",
       "      <td>1</td>\n",
       "      <td>0</td>\n",
       "      <td>1</td>\n",
       "      <td>1</td>\n",
       "      <td>0</td>\n",
       "    </tr>\n",
       "  </tbody>\n",
       "</table>\n",
       "<p>5 rows × 115 columns</p>\n",
       "</div>"
      ],
      "text/plain": [
       "  English (en)        Afrikaans (af) Albanian (sq) Amharic (am) Arabic (ar)  \\\n",
       "0        aback  uit die veld geslaan         prapa         ተጭኗል  الى الوراء   \n",
       "1       abacus                abakus     numërator       abacus   طبلية تاج   \n",
       "2      abandon               verlaat       braktis           ውጣ        تخلى   \n",
       "3    abandoned               verlate     braktisur         ተትቷል       مهجور   \n",
       "4  abandonment             verlating     braktisje         ማቋረጥ   التخلي عن   \n",
       "\n",
       "      Armenian (hy) Azeerbaijani (az)     Basque (eu) Belarusian (be)  \\\n",
       "0            շեղում             sanki           aback           ззаду   \n",
       "1  անբավարարություն            abacus           abako           абака   \n",
       "2              լքել           tərk et   bertan behera    адмовіцца ад   \n",
       "3             լքված         tərk etdi  abandonatutako        закінуты   \n",
       "4       հրաժարվելով              ləğv        abandono       пакіданне   \n",
       "\n",
       "       Bengali (bn)  ... Positive Negative Anger Anticipation Disgust Fear  \\\n",
       "0           পশ্চাতে  ...        0        0     0            0       0    0   \n",
       "1  গণনা-যন্ত্রবিশেষ  ...        0        0     0            0       0    0   \n",
       "2        বর্জিত করা  ...        0        1     0            0       0    1   \n",
       "3         পরিত্যক্ত  ...        0        1     1            0       0    1   \n",
       "4           বিসর্জন  ...        0        1     1            0       0    1   \n",
       "\n",
       "  Joy Sadness Surprise Trust  \n",
       "0   0       0        0     0  \n",
       "1   0       0        0     1  \n",
       "2   0       1        0     0  \n",
       "3   0       1        0     0  \n",
       "4   0       1        1     0  \n",
       "\n",
       "[5 rows x 115 columns]"
      ]
     },
     "execution_count": 69,
     "metadata": {},
     "output_type": "execute_result"
    }
   ],
   "source": [
    "df.head()"
   ]
  },
  {
   "cell_type": "code",
   "execution_count": 70,
   "metadata": {},
   "outputs": [
    {
     "data": {
      "text/html": [
       "<div>\n",
       "<style scoped>\n",
       "    .dataframe tbody tr th:only-of-type {\n",
       "        vertical-align: middle;\n",
       "    }\n",
       "\n",
       "    .dataframe tbody tr th {\n",
       "        vertical-align: top;\n",
       "    }\n",
       "\n",
       "    .dataframe thead th {\n",
       "        text-align: right;\n",
       "    }\n",
       "</style>\n",
       "<table border=\"1\" class=\"dataframe\">\n",
       "  <thead>\n",
       "    <tr style=\"text-align: right;\">\n",
       "      <th></th>\n",
       "      <th>English (en)</th>\n",
       "      <th>Afrikaans (af)</th>\n",
       "      <th>Albanian (sq)</th>\n",
       "      <th>Amharic (am)</th>\n",
       "      <th>Arabic (ar)</th>\n",
       "      <th>Armenian (hy)</th>\n",
       "      <th>Azeerbaijani (az)</th>\n",
       "      <th>Basque (eu)</th>\n",
       "      <th>Belarusian (be)</th>\n",
       "      <th>Bengali (bn)</th>\n",
       "      <th>...</th>\n",
       "      <th>Positive</th>\n",
       "      <th>Negative</th>\n",
       "      <th>Anger</th>\n",
       "      <th>Anticipation</th>\n",
       "      <th>Disgust</th>\n",
       "      <th>Fear</th>\n",
       "      <th>Joy</th>\n",
       "      <th>Sadness</th>\n",
       "      <th>Surprise</th>\n",
       "      <th>Trust</th>\n",
       "    </tr>\n",
       "  </thead>\n",
       "  <tbody>\n",
       "    <tr>\n",
       "      <th>2</th>\n",
       "      <td>abandon</td>\n",
       "      <td>verlaat</td>\n",
       "      <td>braktis</td>\n",
       "      <td>ውጣ</td>\n",
       "      <td>تخلى</td>\n",
       "      <td>լքել</td>\n",
       "      <td>tərk et</td>\n",
       "      <td>bertan behera</td>\n",
       "      <td>адмовіцца ад</td>\n",
       "      <td>বর্জিত করা</td>\n",
       "      <td>...</td>\n",
       "      <td>0</td>\n",
       "      <td>1</td>\n",
       "      <td>0</td>\n",
       "      <td>0</td>\n",
       "      <td>0</td>\n",
       "      <td>1</td>\n",
       "      <td>0</td>\n",
       "      <td>1</td>\n",
       "      <td>0</td>\n",
       "      <td>0</td>\n",
       "    </tr>\n",
       "    <tr>\n",
       "      <th>3</th>\n",
       "      <td>abandoned</td>\n",
       "      <td>verlate</td>\n",
       "      <td>braktisur</td>\n",
       "      <td>ተትቷል</td>\n",
       "      <td>مهجور</td>\n",
       "      <td>լքված</td>\n",
       "      <td>tərk etdi</td>\n",
       "      <td>abandonatutako</td>\n",
       "      <td>закінуты</td>\n",
       "      <td>পরিত্যক্ত</td>\n",
       "      <td>...</td>\n",
       "      <td>0</td>\n",
       "      <td>1</td>\n",
       "      <td>1</td>\n",
       "      <td>0</td>\n",
       "      <td>0</td>\n",
       "      <td>1</td>\n",
       "      <td>0</td>\n",
       "      <td>1</td>\n",
       "      <td>0</td>\n",
       "      <td>0</td>\n",
       "    </tr>\n",
       "    <tr>\n",
       "      <th>4</th>\n",
       "      <td>abandonment</td>\n",
       "      <td>verlating</td>\n",
       "      <td>braktisje</td>\n",
       "      <td>ማቋረጥ</td>\n",
       "      <td>التخلي عن</td>\n",
       "      <td>հրաժարվելով</td>\n",
       "      <td>ləğv</td>\n",
       "      <td>abandono</td>\n",
       "      <td>пакіданне</td>\n",
       "      <td>বিসর্জন</td>\n",
       "      <td>...</td>\n",
       "      <td>0</td>\n",
       "      <td>1</td>\n",
       "      <td>1</td>\n",
       "      <td>0</td>\n",
       "      <td>0</td>\n",
       "      <td>1</td>\n",
       "      <td>0</td>\n",
       "      <td>1</td>\n",
       "      <td>1</td>\n",
       "      <td>0</td>\n",
       "    </tr>\n",
       "    <tr>\n",
       "      <th>13</th>\n",
       "      <td>abduction</td>\n",
       "      <td>ontvoering</td>\n",
       "      <td>rrëmbim</td>\n",
       "      <td>ጠለፋ</td>\n",
       "      <td>اختطاف</td>\n",
       "      <td>առեւանգում</td>\n",
       "      <td>qaçırma</td>\n",
       "      <td>bahiketa</td>\n",
       "      <td>адвядзенне</td>\n",
       "      <td>অপহরণ</td>\n",
       "      <td>...</td>\n",
       "      <td>0</td>\n",
       "      <td>1</td>\n",
       "      <td>0</td>\n",
       "      <td>0</td>\n",
       "      <td>0</td>\n",
       "      <td>1</td>\n",
       "      <td>0</td>\n",
       "      <td>1</td>\n",
       "      <td>1</td>\n",
       "      <td>0</td>\n",
       "    </tr>\n",
       "    <tr>\n",
       "      <th>33</th>\n",
       "      <td>abortion</td>\n",
       "      <td>aborsie</td>\n",
       "      <td>abort</td>\n",
       "      <td>ፅንስ ማስወረድ</td>\n",
       "      <td>الإجهاض</td>\n",
       "      <td>աբորտ</td>\n",
       "      <td>abort</td>\n",
       "      <td>abortua</td>\n",
       "      <td>аборт</td>\n",
       "      <td>গর্ভপাত</td>\n",
       "      <td>...</td>\n",
       "      <td>0</td>\n",
       "      <td>1</td>\n",
       "      <td>0</td>\n",
       "      <td>0</td>\n",
       "      <td>1</td>\n",
       "      <td>1</td>\n",
       "      <td>0</td>\n",
       "      <td>1</td>\n",
       "      <td>0</td>\n",
       "      <td>0</td>\n",
       "    </tr>\n",
       "    <tr>\n",
       "      <th>...</th>\n",
       "      <td>...</td>\n",
       "      <td>...</td>\n",
       "      <td>...</td>\n",
       "      <td>...</td>\n",
       "      <td>...</td>\n",
       "      <td>...</td>\n",
       "      <td>...</td>\n",
       "      <td>...</td>\n",
       "      <td>...</td>\n",
       "      <td>...</td>\n",
       "      <td>...</td>\n",
       "      <td>...</td>\n",
       "      <td>...</td>\n",
       "      <td>...</td>\n",
       "      <td>...</td>\n",
       "      <td>...</td>\n",
       "      <td>...</td>\n",
       "      <td>...</td>\n",
       "      <td>...</td>\n",
       "      <td>...</td>\n",
       "      <td>...</td>\n",
       "    </tr>\n",
       "    <tr>\n",
       "      <th>14162</th>\n",
       "      <td>young</td>\n",
       "      <td>jong</td>\n",
       "      <td>i ri</td>\n",
       "      <td>ወጣት</td>\n",
       "      <td>شاب</td>\n",
       "      <td>երիտասարդ</td>\n",
       "      <td>gənc</td>\n",
       "      <td>gazte</td>\n",
       "      <td>малады</td>\n",
       "      <td>তরুণ</td>\n",
       "      <td>...</td>\n",
       "      <td>1</td>\n",
       "      <td>0</td>\n",
       "      <td>0</td>\n",
       "      <td>1</td>\n",
       "      <td>0</td>\n",
       "      <td>0</td>\n",
       "      <td>1</td>\n",
       "      <td>0</td>\n",
       "      <td>1</td>\n",
       "      <td>0</td>\n",
       "    </tr>\n",
       "    <tr>\n",
       "      <th>14164</th>\n",
       "      <td>youth</td>\n",
       "      <td>jeug</td>\n",
       "      <td>të rinjtë</td>\n",
       "      <td>ወጣት</td>\n",
       "      <td>شباب</td>\n",
       "      <td>երիտասարդություն</td>\n",
       "      <td>gənclər</td>\n",
       "      <td>gazteria</td>\n",
       "      <td>моладзь</td>\n",
       "      <td>যৌবন</td>\n",
       "      <td>...</td>\n",
       "      <td>1</td>\n",
       "      <td>0</td>\n",
       "      <td>1</td>\n",
       "      <td>1</td>\n",
       "      <td>0</td>\n",
       "      <td>1</td>\n",
       "      <td>1</td>\n",
       "      <td>0</td>\n",
       "      <td>1</td>\n",
       "      <td>0</td>\n",
       "    </tr>\n",
       "    <tr>\n",
       "      <th>14167</th>\n",
       "      <td>zeal</td>\n",
       "      <td>ywer</td>\n",
       "      <td>zell</td>\n",
       "      <td>ቅንነት</td>\n",
       "      <td>حماسة</td>\n",
       "      <td>նախանձախնդրություն</td>\n",
       "      <td>həsrət</td>\n",
       "      <td>celo</td>\n",
       "      <td>стараннасць</td>\n",
       "      <td>চাড়</td>\n",
       "      <td>...</td>\n",
       "      <td>1</td>\n",
       "      <td>0</td>\n",
       "      <td>0</td>\n",
       "      <td>1</td>\n",
       "      <td>0</td>\n",
       "      <td>0</td>\n",
       "      <td>1</td>\n",
       "      <td>0</td>\n",
       "      <td>1</td>\n",
       "      <td>1</td>\n",
       "    </tr>\n",
       "    <tr>\n",
       "      <th>14169</th>\n",
       "      <td>zealous</td>\n",
       "      <td>ywerig</td>\n",
       "      <td>i zellshëm</td>\n",
       "      <td>ቀናተኛ</td>\n",
       "      <td>متحمس</td>\n",
       "      <td>նախանձախնդիր</td>\n",
       "      <td>qəsdkar</td>\n",
       "      <td>zealous</td>\n",
       "      <td>руплівы</td>\n",
       "      <td>প্রবল উদ্দীপনাপূর্ণ</td>\n",
       "      <td>...</td>\n",
       "      <td>1</td>\n",
       "      <td>0</td>\n",
       "      <td>0</td>\n",
       "      <td>0</td>\n",
       "      <td>0</td>\n",
       "      <td>0</td>\n",
       "      <td>1</td>\n",
       "      <td>0</td>\n",
       "      <td>0</td>\n",
       "      <td>1</td>\n",
       "    </tr>\n",
       "    <tr>\n",
       "      <th>14174</th>\n",
       "      <td>zest</td>\n",
       "      <td>lus</td>\n",
       "      <td>gjallëri</td>\n",
       "      <td>zest</td>\n",
       "      <td>شهية</td>\n",
       "      <td>սեզոն</td>\n",
       "      <td>zest</td>\n",
       "      <td>Zestoan</td>\n",
       "      <td>цэдра</td>\n",
       "      <td>রূচি</td>\n",
       "      <td>...</td>\n",
       "      <td>1</td>\n",
       "      <td>0</td>\n",
       "      <td>0</td>\n",
       "      <td>1</td>\n",
       "      <td>0</td>\n",
       "      <td>0</td>\n",
       "      <td>1</td>\n",
       "      <td>0</td>\n",
       "      <td>0</td>\n",
       "      <td>1</td>\n",
       "    </tr>\n",
       "  </tbody>\n",
       "</table>\n",
       "<p>1842 rows × 115 columns</p>\n",
       "</div>"
      ],
      "text/plain": [
       "      English (en) Afrikaans (af) Albanian (sq) Amharic (am) Arabic (ar)  \\\n",
       "2          abandon        verlaat       braktis           ውጣ        تخلى   \n",
       "3        abandoned        verlate     braktisur         ተትቷል       مهجور   \n",
       "4      abandonment      verlating     braktisje         ማቋረጥ   التخلي عن   \n",
       "13       abduction     ontvoering       rrëmbim          ጠለፋ      اختطاف   \n",
       "33        abortion        aborsie         abort    ፅንስ ማስወረድ     الإجهاض   \n",
       "...            ...            ...           ...          ...         ...   \n",
       "14162        young           jong          i ri          ወጣት         شاب   \n",
       "14164        youth           jeug     të rinjtë          ወጣት        شباب   \n",
       "14167         zeal           ywer          zell         ቅንነት       حماسة   \n",
       "14169      zealous         ywerig    i zellshëm         ቀናተኛ       متحمس   \n",
       "14174         zest            lus      gjallëri         zest        شهية   \n",
       "\n",
       "            Armenian (hy) Azeerbaijani (az)     Basque (eu) Belarusian (be)  \\\n",
       "2                    լքել           tərk et   bertan behera    адмовіцца ад   \n",
       "3                   լքված         tərk etdi  abandonatutako        закінуты   \n",
       "4             հրաժարվելով              ləğv        abandono       пакіданне   \n",
       "13             առեւանգում           qaçırma        bahiketa      адвядзенне   \n",
       "33                  աբորտ             abort         abortua           аборт   \n",
       "...                   ...               ...             ...             ...   \n",
       "14162           երիտասարդ              gənc           gazte          малады   \n",
       "14164    երիտասարդություն           gənclər        gazteria         моладзь   \n",
       "14167  նախանձախնդրություն            həsrət            celo     стараннасць   \n",
       "14169        նախանձախնդիր           qəsdkar         zealous         руплівы   \n",
       "14174               սեզոն              zest         Zestoan           цэдра   \n",
       "\n",
       "              Bengali (bn)  ... Positive Negative Anger Anticipation Disgust  \\\n",
       "2               বর্জিত করা  ...        0        1     0            0       0   \n",
       "3                পরিত্যক্ত  ...        0        1     1            0       0   \n",
       "4                  বিসর্জন  ...        0        1     1            0       0   \n",
       "13                   অপহরণ  ...        0        1     0            0       0   \n",
       "33                 গর্ভপাত  ...        0        1     0            0       1   \n",
       "...                    ...  ...      ...      ...   ...          ...     ...   \n",
       "14162                 তরুণ  ...        1        0     0            1       0   \n",
       "14164                 যৌবন  ...        1        0     1            1       0   \n",
       "14167                 চাড়  ...        1        0     0            1       0   \n",
       "14169  প্রবল উদ্দীপনাপূর্ণ  ...        1        0     0            0       0   \n",
       "14174                 রূচি  ...        1        0     0            1       0   \n",
       "\n",
       "      Fear Joy Sadness Surprise Trust  \n",
       "2        1   0       1        0     0  \n",
       "3        1   0       1        0     0  \n",
       "4        1   0       1        1     0  \n",
       "13       1   0       1        1     0  \n",
       "33       1   0       1        0     0  \n",
       "...    ...  ..     ...      ...   ...  \n",
       "14162    0   1       0        1     0  \n",
       "14164    1   1       0        1     0  \n",
       "14167    0   1       0        1     1  \n",
       "14169    0   1       0        0     1  \n",
       "14174    0   1       0        0     1  \n",
       "\n",
       "[1842 rows x 115 columns]"
      ]
     },
     "execution_count": 70,
     "metadata": {},
     "output_type": "execute_result"
    }
   ],
   "source": [
    "sadness_joy_df = df[(df['Sadness'] == 1) | (df['Joy'] == 1)]\n",
    "sadness_joy_df"
   ]
  },
  {
   "cell_type": "code",
   "execution_count": 71,
   "metadata": {},
   "outputs": [
    {
     "data": {
      "text/html": [
       "<div>\n",
       "<style scoped>\n",
       "    .dataframe tbody tr th:only-of-type {\n",
       "        vertical-align: middle;\n",
       "    }\n",
       "\n",
       "    .dataframe tbody tr th {\n",
       "        vertical-align: top;\n",
       "    }\n",
       "\n",
       "    .dataframe thead th {\n",
       "        text-align: right;\n",
       "    }\n",
       "</style>\n",
       "<table border=\"1\" class=\"dataframe\">\n",
       "  <thead>\n",
       "    <tr style=\"text-align: right;\">\n",
       "      <th></th>\n",
       "      <th>English (en)</th>\n",
       "      <th>Joy</th>\n",
       "      <th>Sadness</th>\n",
       "    </tr>\n",
       "  </thead>\n",
       "  <tbody>\n",
       "    <tr>\n",
       "      <th>0</th>\n",
       "      <td>abandon</td>\n",
       "      <td>0</td>\n",
       "      <td>1</td>\n",
       "    </tr>\n",
       "    <tr>\n",
       "      <th>1</th>\n",
       "      <td>abandoned</td>\n",
       "      <td>0</td>\n",
       "      <td>1</td>\n",
       "    </tr>\n",
       "    <tr>\n",
       "      <th>2</th>\n",
       "      <td>abandonment</td>\n",
       "      <td>0</td>\n",
       "      <td>1</td>\n",
       "    </tr>\n",
       "    <tr>\n",
       "      <th>3</th>\n",
       "      <td>abduction</td>\n",
       "      <td>0</td>\n",
       "      <td>1</td>\n",
       "    </tr>\n",
       "    <tr>\n",
       "      <th>4</th>\n",
       "      <td>abortion</td>\n",
       "      <td>0</td>\n",
       "      <td>1</td>\n",
       "    </tr>\n",
       "  </tbody>\n",
       "</table>\n",
       "</div>"
      ],
      "text/plain": [
       "  English (en)  Joy  Sadness\n",
       "0      abandon    0        1\n",
       "1    abandoned    0        1\n",
       "2  abandonment    0        1\n",
       "3    abduction    0        1\n",
       "4     abortion    0        1"
      ]
     },
     "execution_count": 71,
     "metadata": {},
     "output_type": "execute_result"
    }
   ],
   "source": [
    "english_df = sadness_joy_df[['English (en)','Joy','Sadness']]\n",
    "english_df.reset_index(inplace=True,drop=True)\n",
    "english_df.head()"
   ]
  },
  {
   "cell_type": "code",
   "execution_count": 72,
   "metadata": {},
   "outputs": [],
   "source": [
    "#some words could represent sadness and happiness\n",
    "english_df = english_df[english_df['Joy'] != english_df['Sadness']]"
   ]
  },
  {
   "cell_type": "code",
   "execution_count": 73,
   "metadata": {},
   "outputs": [
    {
     "data": {
      "text/html": [
       "<div>\n",
       "<style scoped>\n",
       "    .dataframe tbody tr th:only-of-type {\n",
       "        vertical-align: middle;\n",
       "    }\n",
       "\n",
       "    .dataframe tbody tr th {\n",
       "        vertical-align: top;\n",
       "    }\n",
       "\n",
       "    .dataframe thead th {\n",
       "        text-align: right;\n",
       "    }\n",
       "</style>\n",
       "<table border=\"1\" class=\"dataframe\">\n",
       "  <thead>\n",
       "    <tr style=\"text-align: right;\">\n",
       "      <th></th>\n",
       "      <th>English (en)</th>\n",
       "      <th>Joy</th>\n",
       "      <th>Sadness</th>\n",
       "    </tr>\n",
       "  </thead>\n",
       "  <tbody>\n",
       "    <tr>\n",
       "      <th>0</th>\n",
       "      <td>abandon</td>\n",
       "      <td>0</td>\n",
       "      <td>1</td>\n",
       "    </tr>\n",
       "    <tr>\n",
       "      <th>1</th>\n",
       "      <td>abandoned</td>\n",
       "      <td>0</td>\n",
       "      <td>1</td>\n",
       "    </tr>\n",
       "    <tr>\n",
       "      <th>2</th>\n",
       "      <td>abandonment</td>\n",
       "      <td>0</td>\n",
       "      <td>1</td>\n",
       "    </tr>\n",
       "    <tr>\n",
       "      <th>3</th>\n",
       "      <td>abduction</td>\n",
       "      <td>0</td>\n",
       "      <td>1</td>\n",
       "    </tr>\n",
       "    <tr>\n",
       "      <th>4</th>\n",
       "      <td>abortion</td>\n",
       "      <td>0</td>\n",
       "      <td>1</td>\n",
       "    </tr>\n",
       "  </tbody>\n",
       "</table>\n",
       "</div>"
      ],
      "text/plain": [
       "  English (en)  Joy  Sadness\n",
       "0      abandon    0        1\n",
       "1    abandoned    0        1\n",
       "2  abandonment    0        1\n",
       "3    abduction    0        1\n",
       "4     abortion    0        1"
      ]
     },
     "execution_count": 73,
     "metadata": {},
     "output_type": "execute_result"
    }
   ],
   "source": [
    "english_df.head()"
   ]
  },
  {
   "cell_type": "code",
   "execution_count": 74,
   "metadata": {},
   "outputs": [],
   "source": [
    "joy_df = english_df['English (en)'][english_df['Joy'] == 1]\n",
    "sadness_df = english_df['English (en)'][english_df['Sadness'] == 1]\n",
    "\n",
    "joy_df.to_csv(\"joy_words\",index=False)\n",
    "sadness_df.to_csv(\"sadness_words\",index=False)"
   ]
  },
  {
   "cell_type": "code",
   "execution_count": 75,
   "metadata": {},
   "outputs": [],
   "source": [
    "joy_list = joy_df.to_list()\n",
    "sadness_list = sadness_df.to_list()"
   ]
  },
  {
   "cell_type": "code",
   "execution_count": null,
   "metadata": {},
   "outputs": [],
   "source": []
  },
  {
   "cell_type": "code",
   "execution_count": 76,
   "metadata": {},
   "outputs": [],
   "source": [
    "#let's try to see if they will be useful in context:\n",
    "#load the preprocessed data:\n",
    "datasets = {'train':pd.read_csv(path.join(SETS_PATH,\"train_set.csv\")),\n",
    "            'valid':pd.read_csv(path.join(SETS_PATH,\"valid_set.csv\")),\n",
    "            'test':pd.read_csv(path.join(SETS_PATH,\"test_set.csv\"))}"
   ]
  },
  {
   "cell_type": "code",
   "execution_count": 77,
   "metadata": {},
   "outputs": [
    {
     "data": {
      "text/plain": [
       "sentiment\n",
       "1    3643\n",
       "0    3618\n",
       "Name: count, dtype: int64"
      ]
     },
     "execution_count": 77,
     "metadata": {},
     "output_type": "execute_result"
    }
   ],
   "source": [
    "datasets['train']['sentiment'].value_counts()"
   ]
  },
  {
   "cell_type": "code",
   "execution_count": 80,
   "metadata": {},
   "outputs": [
    {
     "data": {
      "text/plain": [
       "['girlx', 'bottom', 'thing', 'moving', 'feels', 'bad', 'man']"
      ]
     },
     "execution_count": 80,
     "metadata": {},
     "output_type": "execute_result"
    }
   ],
   "source": [
    "casual_tokenize(datasets['train']['content'].iloc[9])"
   ]
  },
  {
   "cell_type": "code",
   "execution_count": 42,
   "metadata": {},
   "outputs": [],
   "source": [
    "#feature extractors:\n",
    "\n",
    "def number_of_positive_words(tokens,positive_words_list=joy_list):\n",
    "    return sum([word in positive_words_list for word in tokens])"
   ]
  },
  {
   "cell_type": "code",
   "execution_count": 93,
   "metadata": {},
   "outputs": [],
   "source": [
    "from sklearn.feature_extraction.text import TfidfVectorizer\n",
    "vectorizer =  TfidfVectorizer()\n",
    "tfidf_features = vectorizer.fit_transform(datasets['train']['content'])"
   ]
  },
  {
   "cell_type": "code",
   "execution_count": 96,
   "metadata": {},
   "outputs": [
    {
     "data": {
      "text/plain": [
       "(7261,)"
      ]
     },
     "execution_count": 96,
     "metadata": {},
     "output_type": "execute_result"
    }
   ],
   "source": [
    "datasets['train']['content'].shape"
   ]
  },
  {
   "cell_type": "code",
   "execution_count": 95,
   "metadata": {},
   "outputs": [
    {
     "data": {
      "text/plain": [
       "(7261, 13348)"
      ]
     },
     "execution_count": 95,
     "metadata": {},
     "output_type": "execute_result"
    }
   ],
   "source": [
    "tfidf_features.shape"
   ]
  },
  {
   "cell_type": "code",
   "execution_count": 88,
   "metadata": {},
   "outputs": [],
   "source": [
    "def feature_extractor(input_features,feature_extractor_functions):\n",
    "    df = pd.DataFrame()\n",
    "    for fun in feature_extractor_functions:\n",
    "        df = pd.concat([df,input_features.apply(feature_extractor_functions)])\n",
    "    return df"
   ]
  },
  {
   "cell_type": "code",
   "execution_count": 55,
   "metadata": {},
   "outputs": [],
   "source": [
    "model = LogisticRegression()"
   ]
  },
  {
   "cell_type": "code",
   "execution_count": 82,
   "metadata": {},
   "outputs": [],
   "source": [
    "x = datasets['train']['content']\n",
    "y = datasets['train']['sentiment']"
   ]
  },
  {
   "cell_type": "code",
   "execution_count": 98,
   "metadata": {},
   "outputs": [],
   "source": [
    "from sklearn import set_config\n",
    "set_config(transform_output = \"pandas\")"
   ]
  },
  {
   "cell_type": "code",
   "execution_count": 108,
   "metadata": {},
   "outputs": [
    {
     "data": {
      "text/plain": [
       "(7261, 13348)"
      ]
     },
     "execution_count": 108,
     "metadata": {},
     "output_type": "execute_result"
    }
   ],
   "source": [
    "tfidf_features.shape"
   ]
  },
  {
   "cell_type": "code",
   "execution_count": 109,
   "metadata": {},
   "outputs": [
    {
     "data": {
      "text/plain": [
       "(7261, 1)"
      ]
     },
     "execution_count": 109,
     "metadata": {},
     "output_type": "execute_result"
    }
   ],
   "source": [
    "final_features = feature_extractor(x,[number_of_positive_words])\n",
    "final_features.shape\n"
   ]
  },
  {
   "cell_type": "code",
   "execution_count": 110,
   "metadata": {},
   "outputs": [],
   "source": [
    "final_features = pd.concat([final_features,pd.DataFrame(tfidf_features.toarray())],axis=1)"
   ]
  },
  {
   "cell_type": "code",
   "execution_count": 111,
   "metadata": {},
   "outputs": [
    {
     "data": {
      "text/plain": [
       "(7261, 13349)"
      ]
     },
     "execution_count": 111,
     "metadata": {},
     "output_type": "execute_result"
    }
   ],
   "source": [
    "final_features.shape"
   ]
  },
  {
   "cell_type": "code",
   "execution_count": null,
   "metadata": {},
   "outputs": [],
   "source": [
    "model.fit()"
   ]
  },
  {
   "cell_type": "code",
   "execution_count": 113,
   "metadata": {},
   "outputs": [
    {
     "data": {
      "text/plain": [
       "'number_of_positive_words'"
      ]
     },
     "execution_count": 113,
     "metadata": {},
     "output_type": "execute_result"
    }
   ],
   "source": [
    "number_of_positive_words.__name__"
   ]
  },
  {
   "cell_type": "code",
   "execution_count": null,
   "metadata": {},
   "outputs": [],
   "source": []
  }
 ],
 "metadata": {
  "kernelspec": {
   "display_name": "emotion_detection_app_env",
   "language": "python",
   "name": "python3"
  },
  "language_info": {
   "codemirror_mode": {
    "name": "ipython",
    "version": 3
   },
   "file_extension": ".py",
   "mimetype": "text/x-python",
   "name": "python",
   "nbconvert_exporter": "python",
   "pygments_lexer": "ipython3",
   "version": "3.12.9"
  }
 },
 "nbformat": 4,
 "nbformat_minor": 2
}
