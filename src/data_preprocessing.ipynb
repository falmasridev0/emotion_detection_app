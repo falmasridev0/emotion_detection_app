{
 "cells": [
  {
   "cell_type": "code",
   "execution_count": 6,
   "metadata": {},
   "outputs": [],
   "source": [
    "# in this notebook, I will explore and clean the dataset as needed\n",
    "import nltk\n",
    "import pandas as pd\n",
    "import os.path as path\n",
    "import re\n",
    "from nltk.corpus import stopwords\n",
    "\n"
   ]
  },
  {
   "cell_type": "code",
   "execution_count": 7,
   "metadata": {},
   "outputs": [
    {
     "name": "stderr",
     "output_type": "stream",
     "text": [
      "[nltk_data] Downloading package stopwords to\n",
      "[nltk_data]     /home/faisalalmasri/nltk_data...\n",
      "[nltk_data]   Package stopwords is already up-to-date!\n",
      "[nltk_data] Downloading package wordnet to\n",
      "[nltk_data]     /home/faisalalmasri/nltk_data...\n",
      "[nltk_data]   Package wordnet is already up-to-date!\n"
     ]
    },
    {
     "data": {
      "text/plain": [
       "True"
      ]
     },
     "execution_count": 7,
     "metadata": {},
     "output_type": "execute_result"
    }
   ],
   "source": [
    "SETS_PATH = \"../data/data_preparation_phase\"\n",
    "nltk.download('stopwords')\n",
    "nltk.download('wordnet')"
   ]
  },
  {
   "cell_type": "code",
   "execution_count": 8,
   "metadata": {},
   "outputs": [],
   "source": [
    "#step 1: data exploration:\n",
    "datasets = {'train':pd.read_csv(path.join(SETS_PATH,\"train_set.csv\")),\n",
    "            'valid':pd.read_csv(path.join(SETS_PATH,\"valid_set.csv\")),\n",
    "            'test':pd.read_csv(path.join(SETS_PATH,\"test_set.csv\"))}"
   ]
  },
  {
   "cell_type": "code",
   "execution_count": null,
   "metadata": {},
   "outputs": [],
   "source": []
  },
  {
   "cell_type": "code",
   "execution_count": 9,
   "metadata": {},
   "outputs": [
    {
     "name": "stdout",
     "output_type": "stream",
     "text": [
      "sentiment\n",
      "1    3643\n",
      "0    3618\n",
      "Name: count, dtype: int64\n",
      "sentiment\n",
      "1    784\n",
      "0    772\n",
      "Name: count, dtype: int64\n",
      "sentiment\n",
      "1    782\n",
      "0    775\n",
      "Name: count, dtype: int64\n"
     ]
    }
   ],
   "source": [
    "#number of samples per class:\n",
    "for s in datasets:\n",
    "    print(datasets[s]['sentiment'].value_counts())\n",
    "    #great all s are balanced!"
   ]
  },
  {
   "cell_type": "code",
   "execution_count": 10,
   "metadata": {},
   "outputs": [],
   "source": [
    "longest = datasets['train']['content'].apply(len).idxmax()"
   ]
  },
  {
   "cell_type": "code",
   "execution_count": 11,
   "metadata": {},
   "outputs": [
    {
     "data": {
      "text/plain": [
       "161"
      ]
     },
     "execution_count": 11,
     "metadata": {},
     "output_type": "execute_result"
    }
   ],
   "source": [
    "len(datasets['train']['content'].iloc[longest])"
   ]
  },
  {
   "cell_type": "code",
   "execution_count": 12,
   "metadata": {},
   "outputs": [
    {
     "name": "stdout",
     "output_type": "stream",
     "text": [
      "train_set:\n",
      "shortest sample length: 6\n",
      "content:lonely\n",
      "\n",
      "longest sample length: 161\n",
      "content:@JasonVonBerg thats the crazy part - was for 16:30. but reasons include &quot;full schedule&quot; &amp; &quot;travelling with his daughter&quot;... So. Not. Cool\n",
      "\n",
      "avg number of chars per sample: 75.2539595097094\n",
      "median number of chars per sample: 71.0\n",
      "valid_set:\n",
      "shortest sample length: 7\n",
      "content:@bfly13\n",
      "\n",
      "longest sample length: 157\n",
      "content:Bored...um...Song of the day: &quot;I caught myself by Paramore&quot; and &quot;No good deed from the musical Wicked&quot;  Oh! And Fully Alive by Flyleaf!!!\n",
      "\n",
      "avg number of chars per sample: 76.00964010282776\n",
      "median number of chars per sample: 72.0\n",
      "test_set:\n",
      "shortest sample length: 8\n",
      "content:Headache\n",
      "\n",
      "longest sample length: 153\n",
      "content:@MariahCarey &quot;VISION OF LOVE&quot; Play now &quot;i had the vision of luv n it was aaaaaoOUoOuoOUU that u..turn out..toOoo&quot; Mariah this ur part\n",
      "\n",
      "avg number of chars per sample: 74.79961464354528\n",
      "median number of chars per sample: 71.0\n"
     ]
    }
   ],
   "source": [
    "#let's see the shortest longest and avg number of chars per sample in addition to what they are:\n",
    "\n",
    "for s in datasets:\n",
    "    samples_lengths = datasets[s]['content'].apply(len)\n",
    "\n",
    "    shortest_content = datasets[s]['content'].iloc[samples_lengths.idxmin()]\n",
    "    longest_content = datasets[s]['content'].iloc[samples_lengths.idxmax()]\n",
    "    avg_content = samples_lengths.mean()\n",
    "    median_length_content = samples_lengths.median()\n",
    "\n",
    "\n",
    "    print(f\"{s}_set:\")\n",
    "    print(f\"shortest sample length: {len(shortest_content)}\\ncontent:{shortest_content}\\n\")\n",
    "    print(f\"longest sample length: {len(longest_content)}\\ncontent:{longest_content}\\n\")\n",
    "    print(f\"avg number of chars per sample: {avg_content}\")\n",
    "    print(f\"median number of chars per sample: {median_length_content}\")\n",
    "\n",
    "\n",
    "\n",
    "\n",
    "\n",
    "    #since mean and median almost the same we could say that it's symmetrical distribution. \n"
   ]
  },
  {
   "cell_type": "code",
   "execution_count": 13,
   "metadata": {},
   "outputs": [],
   "source": [
    "#step 2: pre_processing pipeline:\n",
    "\n",
    "def lower_case(text):\n",
    "    return text.lower()\n",
    "\n",
    "#why we did that? since emotions(happiness,sadness) are not usually correlated with this kind of emotions, likewise, symbols like !? could be used to represent angriness suspesion\n",
    "def remove_puncitions(text):\n",
    "    return re.sub(r'[^\\w\\s]',' ',text)\n",
    "\n",
    "#numbers will not contribute to the emotions usually unless something like \"I waited 30 years to get that. finally!\"\n",
    "def remove_numbers(text):\n",
    "    return re.sub(r'[0-9]','',text)\n",
    "\n",
    "#just did it eariler for tokenization later\n",
    "def trim_extra_spaces(text):\n",
    "    return re.sub(r'\\s+', ' ', text).strip()\n",
    "\n",
    "\n",
    "def remove_stopwords(text,stopwords=stopwords.words('english')):\n",
    "    return \" \".join(word for word in text.split(\" \") if word not in stopwords)\n",
    "\n",
    "def remove_links(text):\n",
    "    return re.sub(r'\\b(?:https?://|www\\.)?\\S+\\.\\S+\\b', '', text)\n",
    "\n",
    "def remove_repititve_patterns(text):\n",
    "    # Step 1: Replace repeated characters (3+ times)\n",
    "    text = re.sub(r'(.)\\1{2,}', r'\\1', text)\n",
    "    \n",
    "    # Step 2: Replace repeated words (2+ times)\n",
    "    text = re.sub(r'\\b(\\w+)(?:\\s+\\1)+\\b', r'\\1', text)\n",
    "    \n",
    "    # Step 3: Replace repeated patterns (2+ times)\n",
    "    text = re.sub(r'\\b(.+?)\\1+\\b', r'\\1', text)\n",
    "    \n",
    "    return text"
   ]
  },
  {
   "cell_type": "code",
   "execution_count": 14,
   "metadata": {},
   "outputs": [
    {
     "data": {
      "text/plain": [
       "['a',\n",
       " 'about',\n",
       " 'above',\n",
       " 'after',\n",
       " 'again',\n",
       " 'against',\n",
       " 'ain',\n",
       " 'all',\n",
       " 'am',\n",
       " 'an',\n",
       " 'and',\n",
       " 'any',\n",
       " 'are',\n",
       " 'aren',\n",
       " \"aren't\",\n",
       " 'as',\n",
       " 'at',\n",
       " 'be',\n",
       " 'because',\n",
       " 'been',\n",
       " 'before',\n",
       " 'being',\n",
       " 'below',\n",
       " 'between',\n",
       " 'both',\n",
       " 'but',\n",
       " 'by',\n",
       " 'can',\n",
       " 'couldn',\n",
       " \"couldn't\",\n",
       " 'd',\n",
       " 'did',\n",
       " 'didn',\n",
       " \"didn't\",\n",
       " 'do',\n",
       " 'does',\n",
       " 'doesn',\n",
       " \"doesn't\",\n",
       " 'doing',\n",
       " 'don',\n",
       " \"don't\",\n",
       " 'down',\n",
       " 'during',\n",
       " 'each',\n",
       " 'few',\n",
       " 'for',\n",
       " 'from',\n",
       " 'further',\n",
       " 'had',\n",
       " 'hadn',\n",
       " \"hadn't\",\n",
       " 'has',\n",
       " 'hasn',\n",
       " \"hasn't\",\n",
       " 'have',\n",
       " 'haven',\n",
       " \"haven't\",\n",
       " 'having',\n",
       " 'he',\n",
       " \"he'd\",\n",
       " \"he'll\",\n",
       " 'her',\n",
       " 'here',\n",
       " 'hers',\n",
       " 'herself',\n",
       " \"he's\",\n",
       " 'him',\n",
       " 'himself',\n",
       " 'his',\n",
       " 'how',\n",
       " 'i',\n",
       " \"i'd\",\n",
       " 'if',\n",
       " \"i'll\",\n",
       " \"i'm\",\n",
       " 'in',\n",
       " 'into',\n",
       " 'is',\n",
       " 'isn',\n",
       " \"isn't\",\n",
       " 'it',\n",
       " \"it'd\",\n",
       " \"it'll\",\n",
       " \"it's\",\n",
       " 'its',\n",
       " 'itself',\n",
       " \"i've\",\n",
       " 'just',\n",
       " 'll',\n",
       " 'm',\n",
       " 'ma',\n",
       " 'me',\n",
       " 'mightn',\n",
       " \"mightn't\",\n",
       " 'more',\n",
       " 'most',\n",
       " 'mustn',\n",
       " \"mustn't\",\n",
       " 'my',\n",
       " 'myself',\n",
       " 'needn',\n",
       " \"needn't\",\n",
       " 'no',\n",
       " 'nor',\n",
       " 'not',\n",
       " 'now',\n",
       " 'o',\n",
       " 'of',\n",
       " 'off',\n",
       " 'on',\n",
       " 'once',\n",
       " 'only',\n",
       " 'or',\n",
       " 'other',\n",
       " 'our',\n",
       " 'ours',\n",
       " 'ourselves',\n",
       " 'out',\n",
       " 'over',\n",
       " 'own',\n",
       " 're',\n",
       " 's',\n",
       " 'same',\n",
       " 'shan',\n",
       " \"shan't\",\n",
       " 'she',\n",
       " \"she'd\",\n",
       " \"she'll\",\n",
       " \"she's\",\n",
       " 'should',\n",
       " 'shouldn',\n",
       " \"shouldn't\",\n",
       " \"should've\",\n",
       " 'so',\n",
       " 'some',\n",
       " 'such',\n",
       " 't',\n",
       " 'than',\n",
       " 'that',\n",
       " \"that'll\",\n",
       " 'the',\n",
       " 'their',\n",
       " 'theirs',\n",
       " 'them',\n",
       " 'themselves',\n",
       " 'then',\n",
       " 'there',\n",
       " 'these',\n",
       " 'they',\n",
       " \"they'd\",\n",
       " \"they'll\",\n",
       " \"they're\",\n",
       " \"they've\",\n",
       " 'this',\n",
       " 'those',\n",
       " 'through',\n",
       " 'to',\n",
       " 'too',\n",
       " 'under',\n",
       " 'until',\n",
       " 'up',\n",
       " 've',\n",
       " 'very',\n",
       " 'was',\n",
       " 'wasn',\n",
       " \"wasn't\",\n",
       " 'we',\n",
       " \"we'd\",\n",
       " \"we'll\",\n",
       " \"we're\",\n",
       " 'were',\n",
       " 'weren',\n",
       " \"weren't\",\n",
       " \"we've\",\n",
       " 'what',\n",
       " 'when',\n",
       " 'where',\n",
       " 'which',\n",
       " 'while',\n",
       " 'who',\n",
       " 'whom',\n",
       " 'why',\n",
       " 'will',\n",
       " 'with',\n",
       " 'won',\n",
       " \"won't\",\n",
       " 'wouldn',\n",
       " \"wouldn't\",\n",
       " 'y',\n",
       " 'you',\n",
       " \"you'd\",\n",
       " \"you'll\",\n",
       " 'your',\n",
       " \"you're\",\n",
       " 'yours',\n",
       " 'yourself',\n",
       " 'yourselves',\n",
       " \"you've\"]"
      ]
     },
     "execution_count": 14,
     "metadata": {},
     "output_type": "execute_result"
    }
   ],
   "source": [
    "#display stopwords:\n",
    "stopwords.words('english')\n",
    "#I will keep them as they are for now and change them later if needed after model development"
   ]
  },
  {
   "cell_type": "code",
   "execution_count": 15,
   "metadata": {},
   "outputs": [],
   "source": [
    "def preprocessing(content,functions):\n",
    "    for fun in functions:\n",
    "        content = fun(content)\n",
    "    return content\n"
   ]
  },
  {
   "cell_type": "code",
   "execution_count": 17,
   "metadata": {},
   "outputs": [],
   "source": [
    "preprocessing_functions = [lower_case,remove_puncitions,remove_numbers,trim_extra_spaces,remove_stopwords,remove_links,remove_repititve_patterns,nltk.casual.casual_tokenize]\n",
    "# preprocessing(\"    hello! my naaAAaame is faisal@aLmasri. my id is 12321s11122   \",preprocessing_functions)"
   ]
  },
  {
   "cell_type": "code",
   "execution_count": 18,
   "metadata": {},
   "outputs": [],
   "source": [
    "#let's tokenize all the sets and save them:\n",
    "for s in datasets:\n",
    "   datasets[s]['content'] = datasets[s]['content'].apply(lambda x: preprocessing(x,preprocessing_functions))"
   ]
  },
  {
   "cell_type": "code",
   "execution_count": 19,
   "metadata": {},
   "outputs": [
    {
     "name": "stdout",
     "output_type": "stream",
     "text": [
      "train_set:\n",
      "   sentiment                                            content\n",
      "0          1      [english, class, working, interactive, orals]\n",
      "1          0  [claireyjonesy, lmao, want, reply, bo, tommcfl...\n",
      "2          0                      [everything, annoying, today]\n",
      "3          0  [done, geology, really, missing, favorite, sis...\n",
      "4          0  [kurttheobald, problem, unfortunately, think, ...\n",
      "valid_set:\n",
      "   sentiment                                            content\n",
      "0          1           [nick_carter, aw, poor, know, us, bless]\n",
      "1          0                  [phone, still, blocked, fav, cll]\n",
      "2          0                                      [like, dress]\n",
      "3          1  [alright, need, get, sleep, actually, awake, m...\n",
      "4          0  [glennbeck, husband, loosing, goverment, job, ...\n",
      "test_set:\n",
      "   sentiment                                            content\n",
      "0          0  [left, cali, morning, dallas, missing, car, much]\n",
      "1          0  [sparklethots, love, birdy, nest, though, alre...\n",
      "2          0  [teelajbrown, know, list, miss, b, c, conflict...\n",
      "3          1                  [dimples, _, know, tupac, lyrics]\n",
      "4          1  [elvishsiao, website, developing, http, woo, s...\n"
     ]
    }
   ],
   "source": [
    "#let's check some samples of each and save results:\n",
    "for s in datasets:\n",
    "    print(f\"{s}_set:\\n{datasets[s].head()}\")\n",
    "    datasets[s].to_csv(f\"../data/preprocessing_phase/{s}_set.csv\")"
   ]
  },
  {
   "cell_type": "code",
   "execution_count": null,
   "metadata": {},
   "outputs": [],
   "source": []
  }
 ],
 "metadata": {
  "kernelspec": {
   "display_name": "emotion_detection_app_env",
   "language": "python",
   "name": "python3"
  },
  "language_info": {
   "codemirror_mode": {
    "name": "ipython",
    "version": 3
   },
   "file_extension": ".py",
   "mimetype": "text/x-python",
   "name": "python",
   "nbconvert_exporter": "python",
   "pygments_lexer": "ipython3",
   "version": "3.12.9"
  }
 },
 "nbformat": 4,
 "nbformat_minor": 2
}
